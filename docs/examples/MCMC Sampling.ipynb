{
 "cells": [
  {
   "cell_type": "markdown",
   "metadata": {},
   "source": [
    "# MCMC Sampling\n",
    "\n",
    "The  `CmdStanModel` class method  `sample` invokes Stan's adaptive HMC-NUTS\n",
    "sampler which uses the Hamiltonian Monte Carlo (HMC) algorithm\n",
    "and its adaptive variant the no-U-turn sampler (NUTS) to produce a set of\n",
    "draws from the posterior distribution of the model parameters conditioned on the data.\n",
    "It returns a `CmdStanMCMC` object\n",
    "which provides properties to retrieve information about the sample, as well as methods\n",
    "to run CmdStan's summary and diagnostics tools.\n",
    "\n",
    "In order to evaluate the fit of the model to the data, it is necessary to run\n",
    "several Monte Carlo chains and compare the set of draws returned by each.\n",
    "By default, the `sample` command runs 4 sampler chains, i.e.,\n",
    "CmdStanPy invokes CmdStan 4 times.\n",
    "CmdStanPy uses Python's `subprocess` and `multiprocessing` libraries\n",
    "to run these chains in separate processes.\n",
    "This processing can be done in parallel, up to the number of\n",
    "processor cores available."
   ]
  },
  {
   "cell_type": "markdown",
   "metadata": {},
   "source": [
    "## Prerequisites\n",
    "\n",
    "\n",
    "CmdStanPy displays progress bars during sampling via use of package [tqdm](https://github.com/tqdm/tqdm).\n",
    "In order for these to display properly, you must have the \n",
    "[ipywidgets](https://ipywidgets.readthedocs.io/en/latest/index.html) package installed,\n",
    "and depending on your version of Jupyter or JupyterLab, you must enable it via command:"
   ]
  },
  {
   "cell_type": "code",
   "execution_count": 1,
   "metadata": {
    "execution": {
     "iopub.execute_input": "2021-12-02T17:20:47.096701Z",
     "iopub.status.busy": "2021-12-02T17:20:47.095940Z",
     "iopub.status.idle": "2021-12-02T17:20:47.324689Z",
     "shell.execute_reply": "2021-12-02T17:20:47.324061Z"
    }
   },
   "outputs": [
    {
     "name": "stdout",
     "output_type": "stream",
     "text": [
      "usage: jupyter [-h] [--version] [--config-dir] [--data-dir] [--runtime-dir]\r\n",
      "               [--paths] [--json] [--debug]\r\n",
      "               [subcommand]\r\n",
      "\r\n",
      "Jupyter: Interactive Computing\r\n",
      "\r\n",
      "positional arguments:\r\n",
      "  subcommand     the subcommand to launch\r\n",
      "\r\n",
      "optional arguments:\r\n",
      "  -h, --help     show this help message and exit\r\n",
      "  --version      show the versions of core jupyter packages and exit\r\n",
      "  --config-dir   show Jupyter config dir\r\n",
      "  --data-dir     show Jupyter data dir\r\n",
      "  --runtime-dir  show Jupyter runtime dir\r\n",
      "  --paths        show all Jupyter paths. Add --json for machine-readable\r\n",
      "                 format.\r\n",
      "  --json         output paths as machine-readable json\r\n",
      "  --debug        output debug information about paths\r\n",
      "\r\n",
      "Available subcommands: dejavu execute kernel kernelspec migrate nbconvert run\r\n",
      "troubleshoot trust\r\n",
      "\r\n",
      "Jupyter command `jupyter-nbextension` not found.\r\n"
     ]
    }
   ],
   "source": [
    "!jupyter nbextension enable --py widgetsnbextension"
   ]
  },
  {
   "cell_type": "markdown",
   "metadata": {},
   "source": [
    "For more information, see the the\n",
    "[installation instructions](https://ipywidgets.readthedocs.io/en/latest/user_install.html#), \n",
    "also [this tqdm GitHub issue](https://github.com/tqdm/tqdm/issues/394#issuecomment-384743637).\n",
    "\n",
    "\n",
    "    "
   ]
  },
  {
   "cell_type": "markdown",
   "metadata": {},
   "source": [
    "## Fitting a model to data\n",
    "\n",
    "In this example we use the CmdStan example model\n",
    "[bernoulli.stan](https://github.com/stan-dev/cmdstanpy/blob/master/test/data/bernoulli.stan)\n",
    "and data file\n",
    "[bernoulli.data.json](https://github.com/stan-dev/cmdstanpy/blob/master/test/data/bernoulli.data.json>).\n",
    "\n",
    "We instantiate a `CmdStanModel` from the Stan program file"
   ]
  },
  {
   "cell_type": "code",
   "execution_count": 2,
   "metadata": {
    "execution": {
     "iopub.execute_input": "2021-12-02T17:20:47.331188Z",
     "iopub.status.busy": "2021-12-02T17:20:47.330647Z",
     "iopub.status.idle": "2021-12-02T17:20:47.716231Z",
     "shell.execute_reply": "2021-12-02T17:20:47.715630Z"
    }
   },
   "outputs": [
    {
     "name": "stderr",
     "output_type": "stream",
     "text": [
      "INFO:cmdstanpy:found newer exe file, not recompiling\n"
     ]
    }
   ],
   "source": [
    "import os\n",
    "from cmdstanpy import CmdStanModel, cmdstan_path\n",
    "    \n",
    "bernoulli_dir = os.path.join(cmdstan_path(), 'examples', 'bernoulli')\n",
    "stan_file = os.path.join(bernoulli_dir, 'bernoulli.stan')\n",
    "data_file = os.path.join(bernoulli_dir, 'bernoulli.data.json')\n",
    "\n",
    "# instantiate, compile bernoulli model\n",
    "model = CmdStanModel(stan_file=stan_file)"
   ]
  },
  {
   "cell_type": "markdown",
   "metadata": {},
   "source": [
    "By default, the model is compiled during instantiation.  The compiled executable is created in the same directory as the program file.  If the directory already contains an executable file with a newer timestamp, the model is not recompiled.\n",
    "\n",
    "We run the sampler on the data using all default settings:  4 chains, each of which runs 1000 warmup and sampling iterations."
   ]
  },
  {
   "cell_type": "code",
   "execution_count": 3,
   "metadata": {
    "execution": {
     "iopub.execute_input": "2021-12-02T17:20:47.726105Z",
     "iopub.status.busy": "2021-12-02T17:20:47.722229Z",
     "iopub.status.idle": "2021-12-02T17:20:47.867027Z",
     "shell.execute_reply": "2021-12-02T17:20:47.866440Z"
    }
   },
   "outputs": [
    {
     "name": "stderr",
     "output_type": "stream",
     "text": [
      "INFO:cmdstanpy:CmdStan start processing\n"
     ]
    },
    {
     "name": "stderr",
     "output_type": "stream",
     "text": [
      "ERROR:cmdstanpy:Error in progress bar initialization:\n",
      "\tIProgress not found. Please update jupyter and ipywidgets. See https://ipywidgets.readthedocs.io/en/stable/user_install.html\n",
      "Disabling progress bars for this session\n"
     ]
    },
    {
     "name": "stderr",
     "output_type": "stream",
     "text": [
      "Exception ignored in: <function tqdm.__del__ at 0x7fc30423b550>\n",
      "Traceback (most recent call last):\n",
      "  File \"/opt/hostedtoolcache/Python/3.9.9/x64/lib/python3.9/site-packages/tqdm/std.py\", line 1147, in __del__\n",
      "    self.close()\n",
      "  File \"/opt/hostedtoolcache/Python/3.9.9/x64/lib/python3.9/site-packages/tqdm/notebook.py\", line 286, in close\n",
      "    self.disp(bar_style='danger', check_delay=False)\n",
      "AttributeError: 'tqdm' object has no attribute 'disp'\n"
     ]
    },
    {
     "name": "stdout",
     "output_type": "stream",
     "text": [
      "                                                                                "
     ]
    },
    {
     "name": "stdout",
     "output_type": "stream",
     "text": [
      "                                                                                "
     ]
    },
    {
     "name": "stdout",
     "output_type": "stream",
     "text": [
      "                                                                                "
     ]
    },
    {
     "name": "stdout",
     "output_type": "stream",
     "text": [
      "                                                                                "
     ]
    },
    {
     "name": "stderr",
     "output_type": "stream",
     "text": [
      "INFO:cmdstanpy:CmdStan done processing.\n"
     ]
    },
    {
     "name": "stdout",
     "output_type": "stream",
     "text": [
      "\n"
     ]
    }
   ],
   "source": [
    "# run CmdStan's sample method, returns object `CmdStanMCMC`\n",
    "fit = model.sample(data=data_file)"
   ]
  },
  {
   "cell_type": "markdown",
   "metadata": {},
   "source": [
    "The `sample` method returns a `CmdStanMCMC` object, which contains:\n",
    "- metadata\n",
    "- draws\n",
    "- HMC tuning parameters `metric`, `step_size`"
   ]
  },
  {
   "cell_type": "code",
   "execution_count": 4,
   "metadata": {
    "execution": {
     "iopub.execute_input": "2021-12-02T17:20:47.875239Z",
     "iopub.status.busy": "2021-12-02T17:20:47.874565Z",
     "iopub.status.idle": "2021-12-02T17:20:47.879891Z",
     "shell.execute_reply": "2021-12-02T17:20:47.880363Z"
    }
   },
   "outputs": [
    {
     "name": "stdout",
     "output_type": "stream",
     "text": [
      "sampler diagnostic variables:\n",
      "dict_keys(['lp__', 'accept_stat__', 'stepsize__', 'treedepth__', 'n_leapfrog__', 'divergent__', 'energy__'])\n",
      "stan model variables:\n",
      "dict_keys(['theta'])\n"
     ]
    }
   ],
   "source": [
    "print('sampler diagnostic variables:\\n{}'.format(fit.metadata.method_vars_cols.keys()))\n",
    "print('stan model variables:\\n{}'.format(fit.metadata.stan_vars_cols.keys()))"
   ]
  },
  {
   "cell_type": "code",
   "execution_count": 5,
   "metadata": {
    "execution": {
     "iopub.execute_input": "2021-12-02T17:20:47.885386Z",
     "iopub.status.busy": "2021-12-02T17:20:47.884725Z",
     "iopub.status.idle": "2021-12-02T17:20:47.967465Z",
     "shell.execute_reply": "2021-12-02T17:20:47.966997Z"
    }
   },
   "outputs": [
    {
     "data": {
      "text/html": [
       "<div>\n",
       "<style scoped>\n",
       "    .dataframe tbody tr th:only-of-type {\n",
       "        vertical-align: middle;\n",
       "    }\n",
       "\n",
       "    .dataframe tbody tr th {\n",
       "        vertical-align: top;\n",
       "    }\n",
       "\n",
       "    .dataframe thead th {\n",
       "        text-align: right;\n",
       "    }\n",
       "</style>\n",
       "<table border=\"1\" class=\"dataframe\">\n",
       "  <thead>\n",
       "    <tr style=\"text-align: right;\">\n",
       "      <th></th>\n",
       "      <th>Mean</th>\n",
       "      <th>MCSE</th>\n",
       "      <th>StdDev</th>\n",
       "      <th>5%</th>\n",
       "      <th>50%</th>\n",
       "      <th>95%</th>\n",
       "      <th>N_Eff</th>\n",
       "      <th>N_Eff/s</th>\n",
       "      <th>R_hat</th>\n",
       "    </tr>\n",
       "    <tr>\n",
       "      <th>name</th>\n",
       "      <th></th>\n",
       "      <th></th>\n",
       "      <th></th>\n",
       "      <th></th>\n",
       "      <th></th>\n",
       "      <th></th>\n",
       "      <th></th>\n",
       "      <th></th>\n",
       "      <th></th>\n",
       "    </tr>\n",
       "  </thead>\n",
       "  <tbody>\n",
       "    <tr>\n",
       "      <th>lp__</th>\n",
       "      <td>-7.30</td>\n",
       "      <td>0.019</td>\n",
       "      <td>0.74</td>\n",
       "      <td>-8.800</td>\n",
       "      <td>-7.00</td>\n",
       "      <td>-6.80</td>\n",
       "      <td>1500.0</td>\n",
       "      <td>26000.0</td>\n",
       "      <td>1.0</td>\n",
       "    </tr>\n",
       "    <tr>\n",
       "      <th>theta</th>\n",
       "      <td>0.25</td>\n",
       "      <td>0.003</td>\n",
       "      <td>0.12</td>\n",
       "      <td>0.079</td>\n",
       "      <td>0.23</td>\n",
       "      <td>0.46</td>\n",
       "      <td>1600.0</td>\n",
       "      <td>27000.0</td>\n",
       "      <td>1.0</td>\n",
       "    </tr>\n",
       "  </tbody>\n",
       "</table>\n",
       "</div>"
      ],
      "text/plain": [
       "       Mean   MCSE  StdDev     5%   50%   95%   N_Eff  N_Eff/s  R_hat\n",
       "name                                                                 \n",
       "lp__  -7.30  0.019    0.74 -8.800 -7.00 -6.80  1500.0  26000.0    1.0\n",
       "theta  0.25  0.003    0.12  0.079  0.23  0.46  1600.0  27000.0    1.0"
      ]
     },
     "execution_count": 5,
     "metadata": {},
     "output_type": "execute_result"
    }
   ],
   "source": [
    "fit.summary()"
   ]
  },
  {
   "cell_type": "markdown",
   "metadata": {},
   "source": [
    "The sampling data from the fit can be accessed either as a `numpy` array or a pandas `DataFrame`:"
   ]
  },
  {
   "cell_type": "code",
   "execution_count": 6,
   "metadata": {
    "execution": {
     "iopub.execute_input": "2021-12-02T17:20:47.972135Z",
     "iopub.status.busy": "2021-12-02T17:20:47.971595Z",
     "iopub.status.idle": "2021-12-02T17:20:48.005439Z",
     "shell.execute_reply": "2021-12-02T17:20:48.005889Z"
    }
   },
   "outputs": [
    {
     "name": "stdout",
     "output_type": "stream",
     "text": [
      "(1000, 4, 8)\n"
     ]
    },
    {
     "data": {
      "text/html": [
       "<div>\n",
       "<style scoped>\n",
       "    .dataframe tbody tr th:only-of-type {\n",
       "        vertical-align: middle;\n",
       "    }\n",
       "\n",
       "    .dataframe tbody tr th {\n",
       "        vertical-align: top;\n",
       "    }\n",
       "\n",
       "    .dataframe thead th {\n",
       "        text-align: right;\n",
       "    }\n",
       "</style>\n",
       "<table border=\"1\" class=\"dataframe\">\n",
       "  <thead>\n",
       "    <tr style=\"text-align: right;\">\n",
       "      <th></th>\n",
       "      <th>lp__</th>\n",
       "      <th>accept_stat__</th>\n",
       "      <th>stepsize__</th>\n",
       "      <th>treedepth__</th>\n",
       "      <th>n_leapfrog__</th>\n",
       "      <th>divergent__</th>\n",
       "      <th>energy__</th>\n",
       "      <th>theta</th>\n",
       "    </tr>\n",
       "  </thead>\n",
       "  <tbody>\n",
       "    <tr>\n",
       "      <th>0</th>\n",
       "      <td>-7.44125</td>\n",
       "      <td>0.937555</td>\n",
       "      <td>0.829134</td>\n",
       "      <td>1.0</td>\n",
       "      <td>1.0</td>\n",
       "      <td>0.0</td>\n",
       "      <td>7.49942</td>\n",
       "      <td>0.412224</td>\n",
       "    </tr>\n",
       "    <tr>\n",
       "      <th>1</th>\n",
       "      <td>-7.29399</td>\n",
       "      <td>1.000000</td>\n",
       "      <td>0.829134</td>\n",
       "      <td>2.0</td>\n",
       "      <td>3.0</td>\n",
       "      <td>0.0</td>\n",
       "      <td>7.50371</td>\n",
       "      <td>0.392877</td>\n",
       "    </tr>\n",
       "    <tr>\n",
       "      <th>2</th>\n",
       "      <td>-6.74865</td>\n",
       "      <td>1.000000</td>\n",
       "      <td>0.829134</td>\n",
       "      <td>2.0</td>\n",
       "      <td>3.0</td>\n",
       "      <td>0.0</td>\n",
       "      <td>7.25722</td>\n",
       "      <td>0.245599</td>\n",
       "    </tr>\n",
       "    <tr>\n",
       "      <th>3</th>\n",
       "      <td>-7.20626</td>\n",
       "      <td>0.868801</td>\n",
       "      <td>0.829134</td>\n",
       "      <td>2.0</td>\n",
       "      <td>3.0</td>\n",
       "      <td>0.0</td>\n",
       "      <td>7.69975</td>\n",
       "      <td>0.144675</td>\n",
       "    </tr>\n",
       "    <tr>\n",
       "      <th>4</th>\n",
       "      <td>-6.76486</td>\n",
       "      <td>1.000000</td>\n",
       "      <td>0.829134</td>\n",
       "      <td>2.0</td>\n",
       "      <td>3.0</td>\n",
       "      <td>0.0</td>\n",
       "      <td>7.16131</td>\n",
       "      <td>0.227543</td>\n",
       "    </tr>\n",
       "  </tbody>\n",
       "</table>\n",
       "</div>"
      ],
      "text/plain": [
       "      lp__  accept_stat__  stepsize__  treedepth__  n_leapfrog__  divergent__  \\\n",
       "0 -7.44125       0.937555    0.829134          1.0           1.0          0.0   \n",
       "1 -7.29399       1.000000    0.829134          2.0           3.0          0.0   \n",
       "2 -6.74865       1.000000    0.829134          2.0           3.0          0.0   \n",
       "3 -7.20626       0.868801    0.829134          2.0           3.0          0.0   \n",
       "4 -6.76486       1.000000    0.829134          2.0           3.0          0.0   \n",
       "\n",
       "   energy__     theta  \n",
       "0   7.49942  0.412224  \n",
       "1   7.50371  0.392877  \n",
       "2   7.25722  0.245599  \n",
       "3   7.69975  0.144675  \n",
       "4   7.16131  0.227543  "
      ]
     },
     "execution_count": 6,
     "metadata": {},
     "output_type": "execute_result"
    }
   ],
   "source": [
    "print(fit.draws().shape)\n",
    "fit.draws_pd().head()"
   ]
  },
  {
   "cell_type": "markdown",
   "metadata": {},
   "source": [
    "Additionally, if `xarray` is installed, this data can be accessed another way:"
   ]
  },
  {
   "cell_type": "code",
   "execution_count": 7,
   "metadata": {
    "execution": {
     "iopub.execute_input": "2021-12-02T17:20:48.011430Z",
     "iopub.status.busy": "2021-12-02T17:20:48.010775Z",
     "iopub.status.idle": "2021-12-02T17:20:48.119482Z",
     "shell.execute_reply": "2021-12-02T17:20:48.119943Z"
    }
   },
   "outputs": [
    {
     "ename": "RuntimeError",
     "evalue": "Package \"xarray\" is not installed, cannot produce draws array.",
     "output_type": "error",
     "traceback": [
      "\u001b[0;31m---------------------------------------------------------------------------\u001b[0m",
      "\u001b[0;31mRuntimeError\u001b[0m                              Traceback (most recent call last)",
      "\u001b[0;32m/tmp/ipykernel_3367/564936507.py\u001b[0m in \u001b[0;36m<module>\u001b[0;34m\u001b[0m\n\u001b[0;32m----> 1\u001b[0;31m \u001b[0mfit\u001b[0m\u001b[0;34m.\u001b[0m\u001b[0mdraws_xr\u001b[0m\u001b[0;34m(\u001b[0m\u001b[0;34m)\u001b[0m\u001b[0;34m\u001b[0m\u001b[0;34m\u001b[0m\u001b[0m\n\u001b[0m",
      "\u001b[0;32m~/work/cmdstanpy/cmdstanpy/cmdstanpy/stanfit.py\u001b[0m in \u001b[0;36mdraws_xr\u001b[0;34m(self, vars, inc_warmup)\u001b[0m\n\u001b[1;32m    919\u001b[0m         \"\"\"\n\u001b[1;32m    920\u001b[0m         \u001b[0;32mif\u001b[0m \u001b[0;32mnot\u001b[0m \u001b[0mXARRAY_INSTALLED\u001b[0m\u001b[0;34m:\u001b[0m\u001b[0;34m\u001b[0m\u001b[0;34m\u001b[0m\u001b[0m\n\u001b[0;32m--> 921\u001b[0;31m             raise RuntimeError(\n\u001b[0m\u001b[1;32m    922\u001b[0m                 \u001b[0;34m'Package \"xarray\" is not installed, cannot produce draws array.'\u001b[0m\u001b[0;34m\u001b[0m\u001b[0;34m\u001b[0m\u001b[0m\n\u001b[1;32m    923\u001b[0m             )\n",
      "\u001b[0;31mRuntimeError\u001b[0m: Package \"xarray\" is not installed, cannot produce draws array."
     ]
    }
   ],
   "source": [
    "fit.draws_xr()"
   ]
  },
  {
   "cell_type": "markdown",
   "metadata": {},
   "source": [
    "The ``fit`` object records the command, the return code,\n",
    "and the paths to the sampler output csv and console files.\n",
    "The string representation of this object displays the CmdStan commands and\n",
    "the location of the output files.\n",
    "\n",
    "Output filenames are composed of the model name, a timestamp\n",
    "in the form YYYYMMDDhhmm and the chain id, plus the corresponding\n",
    "filetype suffix, either '.csv' for the CmdStan output or '.txt' for\n",
    "the console messages, e.g. `bernoulli-201912081451-1.csv`. Output files\n",
    "written to the temporary directory contain an additional 8-character\n",
    "random string, e.g. `bernoulli-201912081451-1-5nm6as7u.csv`."
   ]
  },
  {
   "cell_type": "code",
   "execution_count": 8,
   "metadata": {
    "execution": {
     "iopub.execute_input": "2021-12-02T17:20:48.127398Z",
     "iopub.status.busy": "2021-12-02T17:20:48.125710Z",
     "iopub.status.idle": "2021-12-02T17:20:48.129790Z",
     "shell.execute_reply": "2021-12-02T17:20:48.129296Z"
    }
   },
   "outputs": [
    {
     "data": {
      "text/plain": [
       "CmdStanMCMC: model=bernoulli chains=4['method=sample', 'algorithm=hmc', 'adapt', 'engaged=1']\n",
       " csv_files:\n",
       "\t/tmp/tmp7_ko2w1b/bernoulli-20211202172047_1.csv\n",
       "\t/tmp/tmp7_ko2w1b/bernoulli-20211202172047_2.csv\n",
       "\t/tmp/tmp7_ko2w1b/bernoulli-20211202172047_3.csv\n",
       "\t/tmp/tmp7_ko2w1b/bernoulli-20211202172047_4.csv\n",
       " output_files:\n",
       "\t/tmp/tmp7_ko2w1b/bernoulli-20211202172047_0-stdout.txt\n",
       "\t/tmp/tmp7_ko2w1b/bernoulli-20211202172047_1-stdout.txt\n",
       "\t/tmp/tmp7_ko2w1b/bernoulli-20211202172047_2-stdout.txt\n",
       "\t/tmp/tmp7_ko2w1b/bernoulli-20211202172047_3-stdout.txt"
      ]
     },
     "execution_count": 8,
     "metadata": {},
     "output_type": "execute_result"
    }
   ],
   "source": [
    "fit"
   ]
  },
  {
   "cell_type": "markdown",
   "metadata": {},
   "source": [
    "The sampler output files are written to a temporary directory which\n",
    "is deleted upon session exit unless the ``output_dir`` argument is specified.\n",
    "The ``save_csvfiles`` function moves the CmdStan CSV output files\n",
    "to a specified directory without having to re-run the sampler.\n",
    "The console output files are not saved. These files are treated as ephemeral; if the sample is valid, all relevant information is recorded in the CSV files."
   ]
  },
  {
   "cell_type": "markdown",
   "metadata": {},
   "source": [
    "### Sampler Progress\n",
    "\n",
    "Your model make take a long time to fit.  The `sample` method provides two arguments:\n",
    "    \n",
    "- visual progress bar:  `show_progress=True`\n",
    "- stream CmdStan ouput to the console - `show_console=True`\n",
    "    \n",
    "To illustrate how progress bars work, we will run the bernoulli model. Since the progress bars are only visible while the sampler is running and the bernoulli model takes no time at all to fit, we run this model for 200K iterations, in order to see the progress bars in action."
   ]
  },
  {
   "cell_type": "code",
   "execution_count": 9,
   "metadata": {
    "execution": {
     "iopub.execute_input": "2021-12-02T17:20:48.137914Z",
     "iopub.status.busy": "2021-12-02T17:20:48.134337Z",
     "iopub.status.idle": "2021-12-02T17:20:54.840482Z",
     "shell.execute_reply": "2021-12-02T17:20:54.839445Z"
    }
   },
   "outputs": [
    {
     "name": "stderr",
     "output_type": "stream",
     "text": [
      "INFO:cmdstanpy:CmdStan start processing\n"
     ]
    },
    {
     "name": "stderr",
     "output_type": "stream",
     "text": [
      "INFO:cmdstanpy:Chain [1] start processing\n"
     ]
    },
    {
     "name": "stderr",
     "output_type": "stream",
     "text": [
      "INFO:cmdstanpy:Chain [2] start processing\n"
     ]
    },
    {
     "name": "stderr",
     "output_type": "stream",
     "text": [
      "INFO:cmdstanpy:Chain [1] done processing\n"
     ]
    },
    {
     "name": "stderr",
     "output_type": "stream",
     "text": [
      "INFO:cmdstanpy:Chain [3] start processing\n"
     ]
    },
    {
     "name": "stderr",
     "output_type": "stream",
     "text": [
      "INFO:cmdstanpy:Chain [2] done processing\n"
     ]
    },
    {
     "name": "stderr",
     "output_type": "stream",
     "text": [
      "INFO:cmdstanpy:Chain [4] start processing\n"
     ]
    },
    {
     "name": "stderr",
     "output_type": "stream",
     "text": [
      "INFO:cmdstanpy:Chain [3] done processing\n"
     ]
    },
    {
     "name": "stderr",
     "output_type": "stream",
     "text": [
      "INFO:cmdstanpy:Chain [4] done processing\n"
     ]
    }
   ],
   "source": [
    "fit = model.sample(data=data_file, iter_warmup=100000, iter_sampling=100000, show_progress=True)\n"
   ]
  },
  {
   "cell_type": "markdown",
   "metadata": {},
   "source": [
    "The Stan language `print` statement can be use to monitor the Stan program state.\n",
    "In order to see this information as the sampler is running, use the `show_console=True` argument.\n",
    "This will stream all CmdStan messages to the terminal while the sampler is running.\n"
   ]
  },
  {
   "cell_type": "code",
   "execution_count": 10,
   "metadata": {
    "execution": {
     "iopub.execute_input": "2021-12-02T17:20:54.847099Z",
     "iopub.status.busy": "2021-12-02T17:20:54.846425Z",
     "iopub.status.idle": "2021-12-02T17:20:54.947749Z",
     "shell.execute_reply": "2021-12-02T17:20:54.947199Z"
    }
   },
   "outputs": [
    {
     "name": "stderr",
     "output_type": "stream",
     "text": [
      "INFO:cmdstanpy:Chain [1] start processing\n"
     ]
    },
    {
     "name": "stderr",
     "output_type": "stream",
     "text": [
      "INFO:cmdstanpy:Chain [1] done processing\n"
     ]
    },
    {
     "name": "stderr",
     "output_type": "stream",
     "text": [
      "INFO:cmdstanpy:Chain [2] start processing\n"
     ]
    },
    {
     "name": "stderr",
     "output_type": "stream",
     "text": [
      "INFO:cmdstanpy:Chain [2] done processing\n"
     ]
    },
    {
     "name": "stdout",
     "output_type": "stream",
     "text": [
      "Chain [1] method = sample (Default)\n",
      "Chain [1] sample\n",
      "Chain [1] num_samples = 1000 (Default)\n",
      "Chain [1] num_warmup = 1000 (Default)\n",
      "Chain [1] save_warmup = 0 (Default)\n",
      "Chain [1] thin = 1 (Default)\n",
      "Chain [1] adapt\n",
      "Chain [1] engaged = 1 (Default)\n",
      "Chain [1] gamma = 0.050000000000000003 (Default)\n",
      "Chain [1] delta = 0.80000000000000004 (Default)\n",
      "Chain [1] kappa = 0.75 (Default)\n",
      "Chain [1] t0 = 10 (Default)\n",
      "Chain [1] init_buffer = 75 (Default)\n",
      "Chain [1] term_buffer = 50 (Default)\n",
      "Chain [1] window = 25 (Default)\n",
      "Chain [1] algorithm = hmc (Default)\n",
      "Chain [1] hmc\n",
      "Chain [1] engine = nuts (Default)\n",
      "Chain [1] nuts\n",
      "Chain [1] max_depth = 10 (Default)\n",
      "Chain [1] metric = diag_e (Default)\n",
      "Chain [1] metric_file =  (Default)\n",
      "Chain [1] stepsize = 1 (Default)\n",
      "Chain [1] stepsize_jitter = 0 (Default)\n",
      "Chain [1] num_chains = 1 (Default)\n",
      "Chain [1] id = 1 (Default)\n",
      "Chain [1] data\n",
      "Chain [1] file = /home/runner/.cmdstan/cmdstan-2.28.2/examples/bernoulli/bernoulli.data.json\n",
      "Chain [1] init = 2 (Default)\n",
      "Chain [1] random\n",
      "Chain [1] seed = 28378\n",
      "Chain [1] output\n",
      "Chain [1] file = /tmp/tmp7_ko2w1b/bernoulli-20211202172054_1.csv\n",
      "Chain [1] diagnostic_file =  (Default)\n",
      "Chain [1] refresh = 100 (Default)\n",
      "Chain [1] sig_figs = -1 (Default)\n",
      "Chain [1] profile_file = profile.csv (Default)\n",
      "Chain [1] num_threads = 1 (Default)\n",
      "Chain [1] \n",
      "Chain [1] \n",
      "Chain [1] Gradient evaluation took 3e-06 seconds\n",
      "Chain [1] 1000 transitions using 10 leapfrog steps per transition would take 0.03 seconds.\n",
      "Chain [1] Adjust your expectations accordingly!\n",
      "Chain [1] \n",
      "Chain [1] \n",
      "Chain [1] Iteration:    1 / 2000 [  0%]  (Warmup)\n",
      "Chain [1] Iteration:  100 / 2000 [  5%]  (Warmup)\n",
      "Chain [1] Iteration:  200 / 2000 [ 10%]  (Warmup)\n",
      "Chain [1] Iteration:  300 / 2000 [ 15%]  (Warmup)\n",
      "Chain [1] Iteration:  400 / 2000 [ 20%]  (Warmup)\n",
      "Chain [1] Iteration:  500 / 2000 [ 25%]  (Warmup)\n",
      "Chain [1] Iteration:  600 / 2000 [ 30%]  (Warmup)\n",
      "Chain [1] Iteration:  700 / 2000 [ 35%]  (Warmup)\n",
      "Chain [1] Iteration:  800 / 2000 [ 40%]  (Warmup)\n",
      "Chain [1] Iteration:  900 / 2000 [ 45%]  (Warmup)\n",
      "Chain [1] Iteration: 1000 / 2000 [ 50%]  (Warmup)\n",
      "Chain [1] Iteration: 1001 / 2000 [ 50%]  (Sampling)\n",
      "Chain [1] Iteration: 1100 / 2000 [ 55%]  (Sampling)\n",
      "Chain [1] Iteration: 1200 / 2000 [ 60%]  (Sampling)\n",
      "Chain [1] Iteration: 1300 / 2000 [ 65%]  (Sampling)\n",
      "Chain [1] Iteration: 1400 / 2000 [ 70%]  (Sampling)\n",
      "Chain [1] Iteration: 1500 / 2000 [ 75%]  (Sampling)\n",
      "Chain [1] Iteration: 1600 / 2000 [ 80%]  (Sampling)\n",
      "Chain [1] Iteration: 1700 / 2000 [ 85%]  (Sampling)\n",
      "Chain [1] Iteration: 1800 / 2000 [ 90%]  (Sampling)\n",
      "Chain [1] Iteration: 1900 / 2000 [ 95%]  (Sampling)\n",
      "Chain [1] Iteration: 2000 / 2000 [100%]  (Sampling)\n",
      "Chain [1] \n",
      "Chain [1] Elapsed Time: 0.005 seconds (Warm-up)\n",
      "Chain [1] 0.014 seconds (Sampling)\n",
      "Chain [1] 0.019 seconds (Total)\n",
      "Chain [1] \n",
      "Chain [1] \n",
      "Chain [2] method = sample (Default)\n",
      "Chain [2] sample\n",
      "Chain [2] num_samples = 1000 (Default)\n",
      "Chain [2] num_warmup = 1000 (Default)\n",
      "Chain [2] save_warmup = 0 (Default)\n",
      "Chain [2] thin = 1 (Default)\n",
      "Chain [2] adapt\n",
      "Chain [2] engaged = 1 (Default)\n",
      "Chain [2] gamma = 0.050000000000000003 (Default)\n",
      "Chain [2] delta = 0.80000000000000004 (Default)\n",
      "Chain [2] kappa = 0.75 (Default)\n",
      "Chain [2] t0 = 10 (Default)\n",
      "Chain [2] init_buffer = 75 (Default)\n",
      "Chain [2] term_buffer = 50 (Default)\n",
      "Chain [2] window = 25 (Default)\n",
      "Chain [2] algorithm = hmc (Default)\n",
      "Chain [2] hmc\n",
      "Chain [2] engine = nuts (Default)\n",
      "Chain [2] nuts\n",
      "Chain [2] max_depth = 10 (Default)\n",
      "Chain [2] metric = diag_e (Default)\n",
      "Chain [2] metric_file =  (Default)\n",
      "Chain [2] stepsize = 1 (Default)\n",
      "Chain [2] stepsize_jitter = 0 (Default)\n",
      "Chain [2] num_chains = 1 (Default)\n",
      "Chain [2] id = 2\n",
      "Chain [2] data\n",
      "Chain [2] file = /home/runner/.cmdstan/cmdstan-2.28.2/examples/bernoulli/bernoulli.data.json\n",
      "Chain [2] init = 2 (Default)\n",
      "Chain [2] random\n",
      "Chain [2] seed = 28378\n",
      "Chain [2] output\n",
      "Chain [2] file = /tmp/tmp7_ko2w1b/bernoulli-20211202172054_2.csv\n",
      "Chain [2] diagnostic_file =  (Default)\n",
      "Chain [2] refresh = 100 (Default)\n",
      "Chain [2] sig_figs = -1 (Default)\n",
      "Chain [2] profile_file = profile.csv (Default)\n",
      "Chain [2] num_threads = 1 (Default)\n",
      "Chain [2] \n",
      "Chain [2] \n",
      "Chain [2] Gradient evaluation took 3e-06 seconds\n",
      "Chain [2] 1000 transitions using 10 leapfrog steps per transition would take 0.03 seconds.\n",
      "Chain [2] Adjust your expectations accordingly!\n",
      "Chain [2] \n",
      "Chain [2] \n",
      "Chain [2] Iteration:    1 / 2000 [  0%]  (Warmup)\n",
      "Chain [2] Iteration:  100 / 2000 [  5%]  (Warmup)\n",
      "Chain [2] Iteration:  200 / 2000 [ 10%]  (Warmup)\n",
      "Chain [2] Iteration:  300 / 2000 [ 15%]  (Warmup)\n",
      "Chain [2] Iteration:  400 / 2000 [ 20%]  (Warmup)\n",
      "Chain [2] Iteration:  500 / 2000 [ 25%]  (Warmup)\n",
      "Chain [2] Iteration:  600 / 2000 [ 30%]  (Warmup)\n",
      "Chain [2] Iteration:  700 / 2000 [ 35%]  (Warmup)\n",
      "Chain [2] Iteration:  800 / 2000 [ 40%]  (Warmup)\n",
      "Chain [2] Iteration:  900 / 2000 [ 45%]  (Warmup)\n",
      "Chain [2] Iteration: 1000 / 2000 [ 50%]  (Warmup)\n",
      "Chain [2] Iteration: 1001 / 2000 [ 50%]  (Sampling)\n",
      "Chain [2] Iteration: 1100 / 2000 [ 55%]  (Sampling)\n",
      "Chain [2] Iteration: 1200 / 2000 [ 60%]  (Sampling)\n",
      "Chain [2] Iteration: 1300 / 2000 [ 65%]  (Sampling)\n",
      "Chain [2] Iteration: 1400 / 2000 [ 70%]  (Sampling)\n",
      "Chain [2] Iteration: 1500 / 2000 [ 75%]  (Sampling)\n",
      "Chain [2] Iteration: 1600 / 2000 [ 80%]  (Sampling)\n",
      "Chain [2] Iteration: 1700 / 2000 [ 85%]  (Sampling)\n",
      "Chain [2] Iteration: 1800 / 2000 [ 90%]  (Sampling)\n",
      "Chain [2] Iteration: 1900 / 2000 [ 95%]  (Sampling)\n",
      "Chain [2] Iteration: 2000 / 2000 [100%]  (Sampling)\n",
      "Chain [2] \n",
      "Chain [2] Elapsed Time: 0.007 seconds (Warm-up)\n",
      "Chain [2] 0.014 seconds (Sampling)\n",
      "Chain [2] 0.021 seconds (Total)\n",
      "Chain [2] \n",
      "Chain [2] \n"
     ]
    }
   ],
   "source": [
    "fit = model.sample(data=data_file, chains=2, parallel_chains=1, show_console=True)\n",
    "\n"
   ]
  },
  {
   "cell_type": "markdown",
   "metadata": {},
   "source": [
    "## Running a data-generating model\n",
    "\n",
    "In this example we use the CmdStan example model\n",
    "[data_filegen.stan](https://github.com/stan-dev/cmdstanpy/blob/master/docs/notebooks/data_filegen.stan)\n",
    "to generate a simulated dataset given fixed data values."
   ]
  },
  {
   "cell_type": "code",
   "execution_count": 11,
   "metadata": {
    "execution": {
     "iopub.execute_input": "2021-12-02T17:20:54.954225Z",
     "iopub.status.busy": "2021-12-02T17:20:54.953512Z",
     "iopub.status.idle": "2021-12-02T17:21:03.596881Z",
     "shell.execute_reply": "2021-12-02T17:21:03.597642Z"
    }
   },
   "outputs": [
    {
     "name": "stderr",
     "output_type": "stream",
     "text": [
      "INFO:cmdstanpy:compiling stan file /home/runner/work/cmdstanpy/cmdstanpy/docsrc/examples/bernoulli_datagen.stan to exe file /home/runner/work/cmdstanpy/cmdstanpy/docsrc/examples/bernoulli_datagen\n"
     ]
    },
    {
     "name": "stderr",
     "output_type": "stream",
     "text": [
      "INFO:cmdstanpy:compiled model executable: /home/runner/work/cmdstanpy/cmdstanpy/docsrc/examples/bernoulli_datagen\n"
     ]
    },
    {
     "name": "stderr",
     "output_type": "stream",
     "text": [
      "INFO:cmdstanpy:CmdStan start processing\n"
     ]
    },
    {
     "name": "stderr",
     "output_type": "stream",
     "text": [
      "INFO:cmdstanpy:Chain [1] start processing\n"
     ]
    },
    {
     "name": "stderr",
     "output_type": "stream",
     "text": [
      "INFO:cmdstanpy:Chain [1] done processing\n"
     ]
    },
    {
     "data": {
      "text/html": [
       "<div>\n",
       "<style scoped>\n",
       "    .dataframe tbody tr th:only-of-type {\n",
       "        vertical-align: middle;\n",
       "    }\n",
       "\n",
       "    .dataframe tbody tr th {\n",
       "        vertical-align: top;\n",
       "    }\n",
       "\n",
       "    .dataframe thead th {\n",
       "        text-align: right;\n",
       "    }\n",
       "</style>\n",
       "<table border=\"1\" class=\"dataframe\">\n",
       "  <thead>\n",
       "    <tr style=\"text-align: right;\">\n",
       "      <th></th>\n",
       "      <th>Mean</th>\n",
       "      <th>MCSE</th>\n",
       "      <th>StdDev</th>\n",
       "      <th>5%</th>\n",
       "      <th>50%</th>\n",
       "      <th>95%</th>\n",
       "      <th>N_Eff</th>\n",
       "      <th>N_Eff/s</th>\n",
       "      <th>R_hat</th>\n",
       "    </tr>\n",
       "    <tr>\n",
       "      <th>name</th>\n",
       "      <th></th>\n",
       "      <th></th>\n",
       "      <th></th>\n",
       "      <th></th>\n",
       "      <th></th>\n",
       "      <th></th>\n",
       "      <th></th>\n",
       "      <th></th>\n",
       "      <th></th>\n",
       "    </tr>\n",
       "  </thead>\n",
       "  <tbody>\n",
       "    <tr>\n",
       "      <th>lp__</th>\n",
       "      <td>0</td>\n",
       "      <td>NaN</td>\n",
       "      <td>0.0</td>\n",
       "      <td>0</td>\n",
       "      <td>0</td>\n",
       "      <td>0.0</td>\n",
       "      <td>NaN</td>\n",
       "      <td>NaN</td>\n",
       "      <td>NaN</td>\n",
       "    </tr>\n",
       "    <tr>\n",
       "      <th>theta_rep</th>\n",
       "      <td>90</td>\n",
       "      <td>0.26</td>\n",
       "      <td>7.9</td>\n",
       "      <td>77</td>\n",
       "      <td>90</td>\n",
       "      <td>100.0</td>\n",
       "      <td>940.0</td>\n",
       "      <td>130000.0</td>\n",
       "      <td>1.0</td>\n",
       "    </tr>\n",
       "  </tbody>\n",
       "</table>\n",
       "</div>"
      ],
      "text/plain": [
       "           Mean  MCSE  StdDev  5%  50%    95%  N_Eff   N_Eff/s  R_hat\n",
       "name                                                                 \n",
       "lp__          0   NaN     0.0   0    0    0.0    NaN       NaN    NaN\n",
       "theta_rep    90  0.26     7.9  77   90  100.0  940.0  130000.0    1.0"
      ]
     },
     "execution_count": 11,
     "metadata": {},
     "output_type": "execute_result"
    }
   ],
   "source": [
    "model_datagen = CmdStanModel(stan_file='bernoulli_datagen.stan')\n",
    "datagen_data = {'N':300, 'theta':0.3}\n",
    "fit_sim = model_datagen.sample(data=datagen_data, fixed_param=True)\n",
    "fit_sim.summary()"
   ]
  },
  {
   "cell_type": "markdown",
   "metadata": {},
   "source": [
    "Compute, plot histogram of total successes for `N` Bernoulli trials with chance of success `theta`:"
   ]
  },
  {
   "cell_type": "code",
   "execution_count": 12,
   "metadata": {
    "execution": {
     "iopub.execute_input": "2021-12-02T17:21:03.608419Z",
     "iopub.status.busy": "2021-12-02T17:21:03.602645Z",
     "iopub.status.idle": "2021-12-02T17:21:05.167875Z",
     "shell.execute_reply": "2021-12-02T17:21:05.168338Z"
    }
   },
   "outputs": [
    {
     "name": "stderr",
     "output_type": "stream",
     "text": [
      "INFO:matplotlib.font_manager:Failed to extract font properties from /usr/share/fonts/truetype/noto/NotoColorEmoji.ttf: In FT2Font: Can not load face.  Unknown file format.\n"
     ]
    },
    {
     "name": "stderr",
     "output_type": "stream",
     "text": [
      "INFO:matplotlib.font_manager:generated new fontManager\n"
     ]
    },
    {
     "data": {
      "text/plain": [
       "<AxesSubplot:ylabel='Frequency'>"
      ]
     },
     "execution_count": 12,
     "metadata": {},
     "output_type": "execute_result"
    },
    {
     "data": {
      "image/png": "[encoded data removed]",
      "text/plain": [
       "<Figure size 432x288 with 1 Axes>"
      ]
     },
     "metadata": {
      "needs_background": "light"
     },
     "output_type": "display_data"
    }
   ],
   "source": [
    "drawset_pd = fit_sim.draws_pd()\n",
    "drawset_pd.columns\n",
    "\n",
    "# restrict to columns over new outcomes of N Bernoulli trials\n",
    "y_sims = drawset_pd.drop(columns=['lp__', 'accept_stat__'])\n",
    "\n",
    "# plot total number of successes per draw\n",
    "y_sums = y_sims.sum(axis=1)\n",
    "y_sums.astype('int32').plot.hist(range(0,datagen_data['N']+1))"
   ]
  }
 ],
 "metadata": {
  "kernelspec": {
   "display_name": "Python 3",
   "language": "python",
   "name": "python3"
  },
  "language_info": {
   "codemirror_mode": {
    "name": "ipython",
    "version": 3
   },
   "file_extension": ".py",
   "mimetype": "text/x-python",
   "name": "python",
   "nbconvert_exporter": "python",
   "pygments_lexer": "ipython3",
   "version": "3.9.9"
  }
 },
 "nbformat": 4,
 "nbformat_minor": 4
}
