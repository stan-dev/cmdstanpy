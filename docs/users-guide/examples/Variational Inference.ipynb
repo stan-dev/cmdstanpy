{
 "cells": [
  {
   "cell_type": "markdown",
   "metadata": {},
   "source": [
    "#  Variational Inference using ADVI\n",
    "\n",
    "Variational inference is a method for approximating complex Bayesian posterior distributions using simpler, parameterized distributions.\n",
    "The Automatic Differentiation Variational Inference (ADVI) algorithm\n",
    "searches over a family of simple densities to find the best\n",
    "approximate posterior density.\n",
    "ADVI produces an estimate of the parameter means together with a sample\n",
    "from the approximate posterior density.\n",
    "\n",
    "ADVI uses stochastic gradient ascent to approximate the variational objective function, the evidence lower bound or ELBO.\n",
    "The algorithm ascends these gradients using an adaptive stepsize sequence\n",
    "that has one parameter ``eta`` which is adjusted during warmup.\n",
    "The number of draws used to approximate the ELBO is denoted by ``elbo_samples``. \n",
    "ADVI heuristically determines a rolling window over which it computes\n",
    "the average and the median change of the ELBO.\n",
    "When this change falls below a threshold, denoted by ``tol_rel_obj``,\n",
    "the algorithm is considered to have converged."
   ]
  },
  {
   "cell_type": "markdown",
   "metadata": {},
   "source": [
    "### Example: variational inference for model ``bernoulli.stan``\n",
    "\n",
    "The [CmdStanModel variational](https://mc-stan.org/cmdstanpy/api.html#cmdstanpy.CmdStanModel.variational) method\n",
    "wraps the CmdStan [variational](https://mc-stan.org/docs/cmdstan-guide/variational-config.html) method."
   ]
  },
  {
   "cell_type": "code",
   "execution_count": 1,
   "metadata": {
    "execution": {
     "iopub.execute_input": "2024-03-26T16:30:04.461512Z",
     "iopub.status.busy": "2024-03-26T16:30:04.461313Z",
     "iopub.status.idle": "2024-03-26T16:30:04.909486Z",
     "shell.execute_reply": "2024-03-26T16:30:04.908727Z"
    }
   },
   "outputs": [
    {
     "name": "stderr",
     "output_type": "stream",
     "text": [
      "16:30:04 - cmdstanpy - INFO - Chain [1] start processing\n"
     ]
    },
    {
     "name": "stderr",
     "output_type": "stream",
     "text": [
      "16:30:04 - cmdstanpy - INFO - Chain [1] done processing\n"
     ]
    }
   ],
   "source": [
    "import os\n",
    "from cmdstanpy.model import CmdStanModel\n",
    "from cmdstanpy.utils import cmdstan_path\n",
    "\n",
    "bernoulli_dir = os.path.join(cmdstan_path(), 'examples', 'bernoulli')\n",
    "stan_file = os.path.join(bernoulli_dir, 'bernoulli.stan')\n",
    "data_file = os.path.join(bernoulli_dir, 'bernoulli.data.json')\n",
    "# instantiate, compile bernoulli model\n",
    "model = CmdStanModel(stan_file=stan_file)\n",
    "# run CmdStan's variational inference method, returns object `CmdStanVB`\n",
    "vi = model.variational(data=data_file)"
   ]
  },
  {
   "cell_type": "markdown",
   "metadata": {},
   "source": [
    "The class [`CmdStanVB`](https://mc-stan.org/cmdstanpy/api.html#cmdstanvb) provides the following properties to access information about the parameter names, estimated means, and the sample:\n",
    "\n",
    "  + `column_names` - list of column names\n",
    "  + `columns` - number of columns\n",
    "  + `eta` - step size scaling parameter\n",
    "  + `variational_params_dict` - inferred parameter means as a Dict.\n",
    "  + `variational_params_np` - inferred parameter means as a numpy.ndarray.\n",
    "  + `variational_params_pd` - inferred parameter means as a pandas.DataFrame.\n",
    "  + `variational_sample` - the set of approximate posterior output draws ad a numpy.ndarray.\n",
    "  + `variational_sample_pd` - the set of approximate posterior output draws ad a pandas.DataFrame."
   ]
  },
  {
   "cell_type": "code",
   "execution_count": 2,
   "metadata": {
    "execution": {
     "iopub.execute_input": "2024-03-26T16:30:04.912629Z",
     "iopub.status.busy": "2024-03-26T16:30:04.912204Z",
     "iopub.status.idle": "2024-03-26T16:30:04.916012Z",
     "shell.execute_reply": "2024-03-26T16:30:04.915339Z"
    },
    "scrolled": true
   },
   "outputs": [
    {
     "name": "stdout",
     "output_type": "stream",
     "text": [
      "('lp__', 'log_p__', 'log_g__', 'theta')\n"
     ]
    }
   ],
   "source": [
    "print(vi.column_names)"
   ]
  },
  {
   "cell_type": "code",
   "execution_count": 3,
   "metadata": {
    "execution": {
     "iopub.execute_input": "2024-03-26T16:30:04.918680Z",
     "iopub.status.busy": "2024-03-26T16:30:04.918296Z",
     "iopub.status.idle": "2024-03-26T16:30:04.921670Z",
     "shell.execute_reply": "2024-03-26T16:30:04.920959Z"
    }
   },
   "outputs": [
    {
     "name": "stdout",
     "output_type": "stream",
     "text": [
      "0.228927\n"
     ]
    }
   ],
   "source": [
    "print(vi.variational_params_dict['theta'])"
   ]
  },
  {
   "cell_type": "code",
   "execution_count": 4,
   "metadata": {
    "execution": {
     "iopub.execute_input": "2024-03-26T16:30:04.923992Z",
     "iopub.status.busy": "2024-03-26T16:30:04.923642Z",
     "iopub.status.idle": "2024-03-26T16:30:04.926981Z",
     "shell.execute_reply": "2024-03-26T16:30:04.926356Z"
    }
   },
   "outputs": [
    {
     "name": "stdout",
     "output_type": "stream",
     "text": [
      "(1000, 4)\n"
     ]
    }
   ],
   "source": [
    "print(vi.variational_sample.shape)"
   ]
  },
  {
   "cell_type": "markdown",
   "metadata": {},
   "source": [
    "These estimates are only valid if the algorithm has converged to a good\n",
    "approximation. When the algorithm fails to do so, the `variational`\n",
    "method will throw a `RuntimeError`.\n"
   ]
  },
  {
   "cell_type": "code",
   "execution_count": 5,
   "metadata": {
    "execution": {
     "iopub.execute_input": "2024-03-26T16:30:04.929323Z",
     "iopub.status.busy": "2024-03-26T16:30:04.928957Z",
     "iopub.status.idle": "2024-03-26T16:30:21.609075Z",
     "shell.execute_reply": "2024-03-26T16:30:21.608322Z"
    },
    "tags": [
     "raises-exception"
    ]
   },
   "outputs": [
    {
     "name": "stderr",
     "output_type": "stream",
     "text": [
      "16:30:04 - cmdstanpy - INFO - compiling stan file /home/runner/work/cmdstanpy/cmdstanpy/docsrc/users-guide/examples/eta_should_fail.stan to exe file /home/runner/work/cmdstanpy/cmdstanpy/docsrc/users-guide/examples/eta_should_fail\n"
     ]
    },
    {
     "name": "stderr",
     "output_type": "stream",
     "text": [
      "16:30:21 - cmdstanpy - INFO - compiled model executable: /home/runner/work/cmdstanpy/cmdstanpy/docsrc/users-guide/examples/eta_should_fail\n"
     ]
    },
    {
     "name": "stderr",
     "output_type": "stream",
     "text": [
      "16:30:21 - cmdstanpy - INFO - Chain [1] start processing\n"
     ]
    },
    {
     "name": "stderr",
     "output_type": "stream",
     "text": [
      "16:30:21 - cmdstanpy - INFO - Chain [1] done processing\n"
     ]
    },
    {
     "ename": "RuntimeError",
     "evalue": "The algorithm may not have converged.\nIf you would like to inspect the output, re-call with require_converged=False",
     "output_type": "error",
     "traceback": [
      "\u001b[0;31m---------------------------------------------------------------------------\u001b[0m",
      "\u001b[0;31mRuntimeError\u001b[0m                              Traceback (most recent call last)",
      "Cell \u001b[0;32mIn[5], line 2\u001b[0m\n\u001b[1;32m      1\u001b[0m model_fail \u001b[38;5;241m=\u001b[39m CmdStanModel(stan_file\u001b[38;5;241m=\u001b[39m\u001b[38;5;124m'\u001b[39m\u001b[38;5;124meta_should_fail.stan\u001b[39m\u001b[38;5;124m'\u001b[39m)\n\u001b[0;32m----> 2\u001b[0m vi_fail \u001b[38;5;241m=\u001b[39m \u001b[43mmodel_fail\u001b[49m\u001b[38;5;241;43m.\u001b[39;49m\u001b[43mvariational\u001b[49m\u001b[43m(\u001b[49m\u001b[43m)\u001b[49m\n",
      "File \u001b[0;32m~/work/cmdstanpy/cmdstanpy/cmdstanpy/model.py:1527\u001b[0m, in \u001b[0;36mCmdStanModel.variational\u001b[0;34m(self, data, seed, inits, output_dir, sig_figs, save_latent_dynamics, save_profile, algorithm, iter, grad_samples, elbo_samples, eta, adapt_engaged, adapt_iter, tol_rel_obj, eval_elbo, draws, require_converged, show_console, refresh, time_fmt, timeout, output_samples)\u001b[0m\n\u001b[1;32m   1525\u001b[0m \u001b[38;5;28;01mif\u001b[39;00m \u001b[38;5;28mlen\u001b[39m(re\u001b[38;5;241m.\u001b[39mfindall(pat, contents)) \u001b[38;5;241m>\u001b[39m \u001b[38;5;241m0\u001b[39m:\n\u001b[1;32m   1526\u001b[0m     \u001b[38;5;28;01mif\u001b[39;00m require_converged:\n\u001b[0;32m-> 1527\u001b[0m         \u001b[38;5;28;01mraise\u001b[39;00m \u001b[38;5;167;01mRuntimeError\u001b[39;00m(\n\u001b[1;32m   1528\u001b[0m             \u001b[38;5;124m'\u001b[39m\u001b[38;5;124mThe algorithm may not have converged.\u001b[39m\u001b[38;5;130;01m\\n\u001b[39;00m\u001b[38;5;124m'\u001b[39m\n\u001b[1;32m   1529\u001b[0m             \u001b[38;5;124m'\u001b[39m\u001b[38;5;124mIf you would like to inspect the output, \u001b[39m\u001b[38;5;124m'\u001b[39m\n\u001b[1;32m   1530\u001b[0m             \u001b[38;5;124m'\u001b[39m\u001b[38;5;124mre-call with require_converged=False\u001b[39m\u001b[38;5;124m'\u001b[39m\n\u001b[1;32m   1531\u001b[0m         )\n\u001b[1;32m   1532\u001b[0m     \u001b[38;5;66;03m# else:\u001b[39;00m\n\u001b[1;32m   1533\u001b[0m     get_logger()\u001b[38;5;241m.\u001b[39mwarning(\n\u001b[1;32m   1534\u001b[0m         \u001b[38;5;124m'\u001b[39m\u001b[38;5;132;01m%s\u001b[39;00m\u001b[38;5;130;01m\\n\u001b[39;00m\u001b[38;5;132;01m%s\u001b[39;00m\u001b[38;5;124m'\u001b[39m,\n\u001b[1;32m   1535\u001b[0m         \u001b[38;5;124m'\u001b[39m\u001b[38;5;124mThe algorithm may not have converged.\u001b[39m\u001b[38;5;124m'\u001b[39m,\n\u001b[1;32m   1536\u001b[0m         \u001b[38;5;124m'\u001b[39m\u001b[38;5;124mProceeding because require_converged is set to False\u001b[39m\u001b[38;5;124m'\u001b[39m,\n\u001b[1;32m   1537\u001b[0m     )\n",
      "\u001b[0;31mRuntimeError\u001b[0m: The algorithm may not have converged.\nIf you would like to inspect the output, re-call with require_converged=False"
     ]
    }
   ],
   "source": [
    "model_fail = CmdStanModel(stan_file='eta_should_fail.stan')\n",
    "vi_fail = model_fail.variational()"
   ]
  },
  {
   "cell_type": "markdown",
   "metadata": {},
   "source": [
    "Unless you set `require_converged=False`:"
   ]
  },
  {
   "cell_type": "code",
   "execution_count": 6,
   "metadata": {
    "execution": {
     "iopub.execute_input": "2024-03-26T16:30:21.611786Z",
     "iopub.status.busy": "2024-03-26T16:30:21.611575Z",
     "iopub.status.idle": "2024-03-26T16:30:21.656310Z",
     "shell.execute_reply": "2024-03-26T16:30:21.655745Z"
    }
   },
   "outputs": [
    {
     "name": "stderr",
     "output_type": "stream",
     "text": [
      "16:30:21 - cmdstanpy - INFO - Chain [1] start processing\n"
     ]
    },
    {
     "name": "stderr",
     "output_type": "stream",
     "text": [
      "16:30:21 - cmdstanpy - INFO - Chain [1] done processing\n"
     ]
    },
    {
     "name": "stderr",
     "output_type": "stream",
     "text": [
      "16:30:21 - cmdstanpy - WARNING - The algorithm may not have converged.\n",
      "Proceeding because require_converged is set to False\n"
     ]
    }
   ],
   "source": [
    "vi_fail = model_fail.variational(require_converged=False)"
   ]
  },
  {
   "cell_type": "markdown",
   "metadata": {},
   "source": [
    "This lets you inspect the output to try to diagnose the issue with the model"
   ]
  },
  {
   "cell_type": "code",
   "execution_count": 7,
   "metadata": {
    "execution": {
     "iopub.execute_input": "2024-03-26T16:30:21.659303Z",
     "iopub.status.busy": "2024-03-26T16:30:21.658885Z",
     "iopub.status.idle": "2024-03-26T16:30:21.665849Z",
     "shell.execute_reply": "2024-03-26T16:30:21.665162Z"
    }
   },
   "outputs": [
    {
     "data": {
      "text/plain": [
       "OrderedDict([('lp__', 0.0),\n",
       "             ('log_p__', 0.0),\n",
       "             ('log_g__', 0.0),\n",
       "             ('mu[1]', -0.0227764),\n",
       "             ('mu[2]', -0.057944)])"
      ]
     },
     "execution_count": 7,
     "metadata": {},
     "output_type": "execute_result"
    }
   ],
   "source": [
    "vi_fail.variational_params_dict"
   ]
  },
  {
   "cell_type": "markdown",
   "metadata": {},
   "source": [
    "See the [API documentation](https://mc-stan.org/cmdstanpy/api.html#cmdstanpy.CmdStanModel.variational) for a full description of all arguments."
   ]
  }
 ],
 "metadata": {
  "kernelspec": {
   "display_name": "Python 3 (ipykernel)",
   "language": "python",
   "name": "python3"
  },
  "language_info": {
   "codemirror_mode": {
    "name": "ipython",
    "version": 3
   },
   "file_extension": ".py",
   "mimetype": "text/x-python",
   "name": "python",
   "nbconvert_exporter": "python",
   "pygments_lexer": "ipython3",
   "version": "3.9.18"
  }
 },
 "nbformat": 4,
 "nbformat_minor": 4
}
