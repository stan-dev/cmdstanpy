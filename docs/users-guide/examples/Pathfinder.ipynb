{
 "cells": [
  {
   "cell_type": "markdown",
   "metadata": {},
   "source": [
    "# Variational Inference using Pathfinder\n",
    "\n",
    "Stan supports the Pathfinder algorithm\n",
    "([Zhang, 2022](https://jmlr.org/papers/v23/21-0889.html)).\n",
    "Pathfinder is a variational method for approximately\n",
    "sampling from differentiable log densities.  Starting from a random\n",
    "initialization, Pathfinder locates normal approximations to the target\n",
    "density along a quasi-Newton optimization path, with local covariance\n",
    "estimated using the negative inverse Hessian estimates produced by the\n",
    "LBFGS optimizer.  Pathfinder returns draws from the Gaussian approximation\n",
    "with the lowest estimated Kullback-Leibler (KL) divergence to the true\n",
    "posterior.\n",
    "\n",
    "There are two Stan implementations of the Pathfinder algorithm:\n",
    "single-path Pathfinder and multi-path Pathfinder.\n",
    "Single-path Pathfinder generates a set of approximate draws from one run of the basic Pathfinder algorithm.\n",
    "Multi-path Pathfinder uses importance resampling over the draws from multiple runs of Pathfinder.\n",
    "This better matches non-normal target densities and also mitigates\n",
    "the problem of L-BFGS getting stuck at local optima or in saddle points on plateaus."
   ]
  },
  {
   "cell_type": "markdown",
   "metadata": {},
   "source": [
    "### Example: variational inference with Pathfinder for model ``bernoulli.stan``\n",
    "\n",
    "The [CmdStanModel pathfinder](https://mc-stan.org/cmdstanpy/api.html#cmdstanpy.CmdStanModel.pathfinder ) method\n",
    "wraps the CmdStan [pathfinder ](https://mc-stan.org/docs/cmdstan-guide/pathfinder-config.html) method.\n",
    "\n",
    "By default, CmdStanPy runs multi-path Pathfinder which returns an importance-resampled set of draws over the outputs of 4 independent single-path Pathfinders."
   ]
  },
  {
   "cell_type": "code",
   "execution_count": 1,
   "metadata": {
    "execution": {
     "iopub.execute_input": "2024-06-17T14:28:45.142416Z",
     "iopub.status.busy": "2024-06-17T14:28:45.142219Z",
     "iopub.status.idle": "2024-06-17T14:28:45.512973Z",
     "shell.execute_reply": "2024-06-17T14:28:45.512371Z"
    }
   },
   "outputs": [],
   "source": [
    "import os\n",
    "from cmdstanpy.model import CmdStanModel, cmdstan_path"
   ]
  },
  {
   "cell_type": "code",
   "execution_count": 2,
   "metadata": {
    "execution": {
     "iopub.execute_input": "2024-06-17T14:28:45.516350Z",
     "iopub.status.busy": "2024-06-17T14:28:45.515712Z",
     "iopub.status.idle": "2024-06-17T14:28:45.605228Z",
     "shell.execute_reply": "2024-06-17T14:28:45.604619Z"
    }
   },
   "outputs": [
    {
     "name": "stderr",
     "output_type": "stream",
     "text": [
      "14:28:45 - cmdstanpy - INFO - Chain [1] start processing\n"
     ]
    },
    {
     "name": "stderr",
     "output_type": "stream",
     "text": [
      "14:28:45 - cmdstanpy - INFO - Chain [1] done processing\n"
     ]
    }
   ],
   "source": [
    "bernoulli_dir = os.path.join(cmdstan_path(), 'examples', 'bernoulli')\n",
    "stan_file = os.path.join(bernoulli_dir, 'bernoulli.stan')\n",
    "data_file = os.path.join(bernoulli_dir, 'bernoulli.data.json')\n",
    "# instantiate, compile bernoulli model\n",
    "model = CmdStanModel(stan_file=stan_file)\n",
    "# run CmdStan's pathfinder method, returns object `CmdStanPathfinder`\n",
    "pathfinder = model.pathfinder(data=data_file)"
   ]
  },
  {
   "cell_type": "code",
   "execution_count": 3,
   "metadata": {
    "execution": {
     "iopub.execute_input": "2024-06-17T14:28:45.608280Z",
     "iopub.status.busy": "2024-06-17T14:28:45.607724Z",
     "iopub.status.idle": "2024-06-17T14:28:45.611807Z",
     "shell.execute_reply": "2024-06-17T14:28:45.611173Z"
    }
   },
   "outputs": [
    {
     "name": "stdout",
     "output_type": "stream",
     "text": [
      "CmdStanPathfinder: model=bernoulli['method=pathfinder']\n",
      " csv_files:\n",
      "\t/tmp/tmpcggr6zzu/bernoulli0sflv0au/bernoulli-20240617142845.csv\n",
      " output_files:\n",
      "\t/tmp/tmpcggr6zzu/bernoulli0sflv0au/bernoulli-20240617142845_0-stdout.txt\n",
      "Metadata:\n",
      "{'stan_version_major': 2, 'stan_version_minor': 35, 'stan_version_patch': 0, 'model': 'bernoulli_model', 'start_datetime': '2024-06-17 14:28:45 UTC', 'method': 'pathfinder', 'init_alpha': 0.001, 'tol_obj': 1e-12, 'tol_rel_obj': 10000, 'tol_grad': 1e-08, 'tol_rel_grad': 10000000.0, 'tol_param': 1e-08, 'history_size': 5, 'num_psis_draws': 1000, 'num_paths': 4, 'save_single_paths': 0, 'psis_resample': 1, 'calculate_lp': 1, 'max_lbfgs_iters': 1000, 'num_draws': 1000, 'num_elbo_draws': 25, 'id': 1, 'data_file': '/home/runner/.cmdstan/cmdstan-2.35.0/examples/bernoulli/bernoulli.data.json', 'init': 2, 'seed': 97812, 'diagnostic_file': '', 'refresh': 100, 'sig_figs': -1, 'profile_file': 'profile.csv', 'save_cmdstan_config': 0, 'num_threads': 1, 'stanc_version': 'stanc3 v2.35.0', 'stancflags': '', 'raw_header': 'lp_approx__,lp__,theta', 'column_names': ('lp_approx__', 'lp__', 'theta')}\n",
      "\n"
     ]
    }
   ],
   "source": [
    "print(pathfinder)\n",
    "print(pathfinder.metadata)"
   ]
  },
  {
   "cell_type": "markdown",
   "metadata": {},
   "source": [
    "The `pathfinder` method returns a [CmdStanPathfinder](https://mc-stan.org/cmdstanpy/api.html#cmdstanpathfinder) object,\n",
    "which provides access to the disparate information from the Stan CSV files.\n",
    "\n",
    "\n",
    "- The [stan_variable](https://mc-stan.org/cmdstanpy/api.html#cmdstanpy.CmdStanPathfinder.stan_variable) and\n",
    "[stan_variables](https://mc-stan.org/cmdstanpy/api.html#cmdstanpy.CmdStanPathfinder.stan_variables) methods \n",
    "return a Python [numpy.ndarray](https://numpy.org/doc/stable/reference/generated/numpy.ndarray.html#numpy.ndarray)\n",
    "containing all draws from the sample where the structure of each draw corresponds to the structure of the\n",
    "Stan variable.\n",
    "\n",
    "- The [draws](https://mc-stan.org/cmdstanpy/api.html#cmdstanpy.CmdStanPathfinder.draws) method returns the sample as a numpy.ndarray."
   ]
  },
  {
   "cell_type": "code",
   "execution_count": 4,
   "metadata": {
    "execution": {
     "iopub.execute_input": "2024-06-17T14:28:45.614201Z",
     "iopub.status.busy": "2024-06-17T14:28:45.613831Z",
     "iopub.status.idle": "2024-06-17T14:28:45.621465Z",
     "shell.execute_reply": "2024-06-17T14:28:45.620922Z"
    }
   },
   "outputs": [
    {
     "data": {
      "text/plain": [
       "(1000,)"
      ]
     },
     "execution_count": 4,
     "metadata": {},
     "output_type": "execute_result"
    }
   ],
   "source": [
    "pathfinder.stan_variable(\"theta\").shape"
   ]
  },
  {
   "cell_type": "code",
   "execution_count": 5,
   "metadata": {
    "execution": {
     "iopub.execute_input": "2024-06-17T14:28:45.623877Z",
     "iopub.status.busy": "2024-06-17T14:28:45.623503Z",
     "iopub.status.idle": "2024-06-17T14:28:45.627637Z",
     "shell.execute_reply": "2024-06-17T14:28:45.627029Z"
    }
   },
   "outputs": [
    {
     "data": {
      "text/plain": [
       "('lp_approx__', 'lp__', 'theta')"
      ]
     },
     "execution_count": 5,
     "metadata": {},
     "output_type": "execute_result"
    }
   ],
   "source": [
    "pathfinder.column_names"
   ]
  },
  {
   "cell_type": "code",
   "execution_count": 6,
   "metadata": {
    "execution": {
     "iopub.execute_input": "2024-06-17T14:28:45.629975Z",
     "iopub.status.busy": "2024-06-17T14:28:45.629590Z",
     "iopub.status.idle": "2024-06-17T14:28:45.633652Z",
     "shell.execute_reply": "2024-06-17T14:28:45.633027Z"
    }
   },
   "outputs": [
    {
     "data": {
      "text/plain": [
       "(1000, 3)"
      ]
     },
     "execution_count": 6,
     "metadata": {},
     "output_type": "execute_result"
    }
   ],
   "source": [
    "pathfinder.draws().shape"
   ]
  },
  {
   "cell_type": "markdown",
   "metadata": {},
   "source": [
    "### Pathfinders as initialization for the MCMC sampler\n",
    "\n",
    "The method [create_inits](https://mc-stan.org/cmdstanpy/api.html#cmdstanpy.CmdStanPathfinder.create_inits) returns a Python Dict containing a set of per-chain initializations for the model parameters.  Each set of initializations is a random draw from the Pathfinder sample.   These initializations can be used as the initial parameter values for Stan's NUTS-HMC sampler, which will reduce the number of warmup iterations needed."
   ]
  },
  {
   "cell_type": "code",
   "execution_count": 7,
   "metadata": {
    "execution": {
     "iopub.execute_input": "2024-06-17T14:28:45.635938Z",
     "iopub.status.busy": "2024-06-17T14:28:45.635593Z",
     "iopub.status.idle": "2024-06-17T14:28:45.639932Z",
     "shell.execute_reply": "2024-06-17T14:28:45.639293Z"
    }
   },
   "outputs": [
    {
     "name": "stdout",
     "output_type": "stream",
     "text": [
      "[{'theta': array(0.369154)}, {'theta': array(0.1015)}, {'theta': array(0.168767)}, {'theta': array(0.0580899)}]\n"
     ]
    }
   ],
   "source": [
    "inits = pathfinder.create_inits()\n",
    "print(inits)"
   ]
  },
  {
   "cell_type": "markdown",
   "metadata": {},
   "source": [
    "The `create_inits` takes two arguments:\n",
    "\n",
    "* `seed` - used for random selection.\n",
    "* `chains` - the number of draws to return, default is 4.  This should match the number of sampler chains to run."
   ]
  },
  {
   "cell_type": "code",
   "execution_count": 8,
   "metadata": {
    "execution": {
     "iopub.execute_input": "2024-06-17T14:28:45.642382Z",
     "iopub.status.busy": "2024-06-17T14:28:45.642017Z",
     "iopub.status.idle": "2024-06-17T14:28:45.645658Z",
     "shell.execute_reply": "2024-06-17T14:28:45.645014Z"
    }
   },
   "outputs": [
    {
     "name": "stdout",
     "output_type": "stream",
     "text": [
      "[{'theta': array(0.214343)}, {'theta': array(0.168289)}, {'theta': array(0.213014)}]\n"
     ]
    }
   ],
   "source": [
    "inits = pathfinder.create_inits(chains=3)\n",
    "print(inits)"
   ]
  }
 ],
 "metadata": {
  "kernelspec": {
   "display_name": "Python 3 (ipykernel)",
   "language": "python",
   "name": "python3"
  },
  "language_info": {
   "codemirror_mode": {
    "name": "ipython",
    "version": 3
   },
   "file_extension": ".py",
   "mimetype": "text/x-python",
   "name": "python",
   "nbconvert_exporter": "python",
   "pygments_lexer": "ipython3",
   "version": "3.9.19"
  }
 },
 "nbformat": 4,
 "nbformat_minor": 4
}
