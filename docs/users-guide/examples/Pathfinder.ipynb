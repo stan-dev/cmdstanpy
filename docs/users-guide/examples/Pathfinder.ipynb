{
 "cells": [
  {
   "cell_type": "markdown",
   "metadata": {},
   "source": [
    "# Variational Inference using Pathfinder\n",
    "\n",
    "Stan supports the Pathfinder algorithm\n",
    "([Zhang, 2022](https://jmlr.org/papers/v23/21-0889.html)).\n",
    "Pathfinder is a variational method for approximately\n",
    "sampling from differentiable log densities.  Starting from a random\n",
    "initialization, Pathfinder locates normal approximations to the target\n",
    "density along a quasi-Newton optimization path, with local covariance\n",
    "estimated using the negative inverse Hessian estimates produced by the\n",
    "LBFGS optimizer.  Pathfinder returns draws from the Gaussian approximation\n",
    "with the lowest estimated Kullback-Leibler (KL) divergence to the true\n",
    "posterior.\n",
    "\n",
    "There are two Stan implementations of the Pathfinder algorithm:\n",
    "single-path Pathfinder and multi-path Pathfinder.\n",
    "Single-path Pathfinder generates a set of approximate draws from one run of the basic Pathfinder algorithm.\n",
    "Multi-path Pathfinder uses importance resampling over the draws from multiple runs of Pathfinder.\n",
    "This better matches non-normal target densities and also mitigates\n",
    "the problem of L-BFGS getting stuck at local optima or in saddle points on plateaus."
   ]
  },
  {
   "cell_type": "markdown",
   "metadata": {},
   "source": [
    "### Example: variational inference with Pathfinder for model ``bernoulli.stan``\n",
    "\n",
    "The [CmdStanModel pathfinder](https://mc-stan.org/cmdstanpy/api.html#cmdstanpy.CmdStanModel.pathfinder ) method\n",
    "wraps the CmdStan [pathfinder ](https://mc-stan.org/docs/cmdstan-guide/pathfinder-config.html) method.\n",
    "\n",
    "By default, CmdStanPy runs multi-path Pathfinder which returns an importance-resampled set of draws over the outputs of 4 independent single-path Pathfinders."
   ]
  },
  {
   "cell_type": "code",
   "execution_count": 1,
   "metadata": {
    "execution": {
     "iopub.execute_input": "2024-02-05T20:41:36.890695Z",
     "iopub.status.busy": "2024-02-05T20:41:36.890218Z",
     "iopub.status.idle": "2024-02-05T20:41:37.188270Z",
     "shell.execute_reply": "2024-02-05T20:41:37.187699Z"
    }
   },
   "outputs": [
    {
     "name": "stderr",
     "output_type": "stream",
     "text": [
      "/opt/hostedtoolcache/Python/3.9.18/x64/lib/python3.9/site-packages/tqdm/auto.py:21: TqdmWarning: IProgress not found. Please update jupyter and ipywidgets. See https://ipywidgets.readthedocs.io/en/stable/user_install.html\n",
      "  from .autonotebook import tqdm as notebook_tqdm\n"
     ]
    }
   ],
   "source": [
    "import os\n",
    "from cmdstanpy.model import CmdStanModel, cmdstan_path"
   ]
  },
  {
   "cell_type": "code",
   "execution_count": 2,
   "metadata": {
    "execution": {
     "iopub.execute_input": "2024-02-05T20:41:37.191153Z",
     "iopub.status.busy": "2024-02-05T20:41:37.190684Z",
     "iopub.status.idle": "2024-02-05T20:41:37.276597Z",
     "shell.execute_reply": "2024-02-05T20:41:37.276028Z"
    }
   },
   "outputs": [
    {
     "name": "stderr",
     "output_type": "stream",
     "text": [
      "20:41:37 - cmdstanpy - INFO - Chain [1] start processing\n"
     ]
    },
    {
     "name": "stderr",
     "output_type": "stream",
     "text": [
      "20:41:37 - cmdstanpy - INFO - Chain [1] done processing\n"
     ]
    }
   ],
   "source": [
    "bernoulli_dir = os.path.join(cmdstan_path(), 'examples', 'bernoulli')\n",
    "stan_file = os.path.join(bernoulli_dir, 'bernoulli.stan')\n",
    "data_file = os.path.join(bernoulli_dir, 'bernoulli.data.json')\n",
    "# instantiate, compile bernoulli model\n",
    "model = CmdStanModel(stan_file=stan_file)\n",
    "# run CmdStan's pathfinder method, returns object `CmdStanPathfinder`\n",
    "pathfinder = model.pathfinder(data=data_file)"
   ]
  },
  {
   "cell_type": "code",
   "execution_count": 3,
   "metadata": {
    "execution": {
     "iopub.execute_input": "2024-02-05T20:41:37.279188Z",
     "iopub.status.busy": "2024-02-05T20:41:37.278927Z",
     "iopub.status.idle": "2024-02-05T20:41:37.282778Z",
     "shell.execute_reply": "2024-02-05T20:41:37.282171Z"
    }
   },
   "outputs": [
    {
     "name": "stdout",
     "output_type": "stream",
     "text": [
      "CmdStanPathfinder: model=bernoulli['method=pathfinder']\n",
      " csv_files:\n",
      "\t/tmp/tmpar1gm37y/bernoulli3ctxpbm0/bernoulli-20240205204137.csv\n",
      " output_files:\n",
      "\t/tmp/tmpar1gm37y/bernoulli3ctxpbm0/bernoulli-20240205204137_0-stdout.txt\n",
      "Metadata:\n",
      "{'stan_version_major': 2, 'stan_version_minor': 34, 'stan_version_patch': 1, 'model': 'bernoulli_model', 'start_datetime': '2024-02-05 20:41:37 UTC', 'method': 'pathfinder', 'init_alpha': 0.001, 'tol_obj': 1e-12, 'tol_rel_obj': 10000, 'tol_grad': 1e-08, 'tol_rel_grad': 10000000.0, 'tol_param': 1e-08, 'history_size': 5, 'num_psis_draws': 1000, 'num_paths': 4, 'save_single_paths': 0, 'psis_resample': 1, 'calculate_lp': 1, 'max_lbfgs_iters': 1000, 'num_draws': 1000, 'num_elbo_draws': 25, 'id': 1, 'data_file': '/home/runner/.cmdstan/cmdstan-2.34.1/examples/bernoulli/bernoulli.data.json', 'init': 2, 'seed': 1285, 'diagnostic_file': '', 'refresh': 100, 'sig_figs': -1, 'profile_file': 'profile.csv', 'save_cmdstan_config': 0, 'num_threads': 1, 'stanc_version': 'stanc3 v2.34.0', 'stancflags': '', 'raw_header': 'lp_approx__,lp__,theta', 'column_names': ('lp_approx__', 'lp__', 'theta')}\n",
      "\n"
     ]
    }
   ],
   "source": [
    "print(pathfinder)\n",
    "print(pathfinder.metadata)"
   ]
  },
  {
   "cell_type": "markdown",
   "metadata": {},
   "source": [
    "The `pathfinder` method returns a [CmdStanPathfinder](https://mc-stan.org/cmdstanpy/api.html#cmdstanpathfinder) object,\n",
    "which provides access to the disparate information from the Stan CSV files.\n",
    "\n",
    "\n",
    "- The [stan_variable](https://mc-stan.org/cmdstanpy/api.html#cmdstanpy.CmdStanPathfinder.stan_variable) and\n",
    "[stan_variables](https://mc-stan.org/cmdstanpy/api.html#cmdstanpy.CmdStanPathfinder.stan_variables) methods \n",
    "return a Python [numpy.ndarray](https://numpy.org/doc/stable/reference/generated/numpy.ndarray.html#numpy.ndarray)\n",
    "containing all draws from the sample where the structure of each draw corresponds to the structure of the\n",
    "Stan variable.\n",
    "\n",
    "- The [draws](https://mc-stan.org/cmdstanpy/api.html#cmdstanpy.CmdStanPathfinder.draws) method returns the sample as a numpy.ndarray."
   ]
  },
  {
   "cell_type": "code",
   "execution_count": 4,
   "metadata": {
    "execution": {
     "iopub.execute_input": "2024-02-05T20:41:37.285213Z",
     "iopub.status.busy": "2024-02-05T20:41:37.284877Z",
     "iopub.status.idle": "2024-02-05T20:41:37.292194Z",
     "shell.execute_reply": "2024-02-05T20:41:37.291591Z"
    }
   },
   "outputs": [
    {
     "data": {
      "text/plain": [
       "(1000,)"
      ]
     },
     "execution_count": 4,
     "metadata": {},
     "output_type": "execute_result"
    }
   ],
   "source": [
    "pathfinder.stan_variable(\"theta\").shape"
   ]
  },
  {
   "cell_type": "code",
   "execution_count": 5,
   "metadata": {
    "execution": {
     "iopub.execute_input": "2024-02-05T20:41:37.294763Z",
     "iopub.status.busy": "2024-02-05T20:41:37.294355Z",
     "iopub.status.idle": "2024-02-05T20:41:37.298410Z",
     "shell.execute_reply": "2024-02-05T20:41:37.297809Z"
    }
   },
   "outputs": [
    {
     "data": {
      "text/plain": [
       "('lp_approx__', 'lp__', 'theta')"
      ]
     },
     "execution_count": 5,
     "metadata": {},
     "output_type": "execute_result"
    }
   ],
   "source": [
    "pathfinder.column_names"
   ]
  },
  {
   "cell_type": "code",
   "execution_count": 6,
   "metadata": {
    "execution": {
     "iopub.execute_input": "2024-02-05T20:41:37.300935Z",
     "iopub.status.busy": "2024-02-05T20:41:37.300459Z",
     "iopub.status.idle": "2024-02-05T20:41:37.304586Z",
     "shell.execute_reply": "2024-02-05T20:41:37.303933Z"
    }
   },
   "outputs": [
    {
     "data": {
      "text/plain": [
       "(1000, 3)"
      ]
     },
     "execution_count": 6,
     "metadata": {},
     "output_type": "execute_result"
    }
   ],
   "source": [
    "pathfinder.draws().shape"
   ]
  },
  {
   "cell_type": "markdown",
   "metadata": {},
   "source": [
    "### Pathfinders as initialization for the MCMC sampler\n",
    "\n",
    "The method [create_inits](https://mc-stan.org/cmdstanpy/api.html#cmdstanpy.CmdStanPathfinder.create_inits) returns a Python Dict containing a set of per-chain initializations for the model parameters.  Each set of initializations is a random draw from the Pathfinder sample.   These initializations can be used as the initial parameter values for Stan's NUTS-HMC sampler, which will reduce the number of warmup iterations needed."
   ]
  },
  {
   "cell_type": "code",
   "execution_count": 7,
   "metadata": {
    "execution": {
     "iopub.execute_input": "2024-02-05T20:41:37.307112Z",
     "iopub.status.busy": "2024-02-05T20:41:37.306736Z",
     "iopub.status.idle": "2024-02-05T20:41:37.310810Z",
     "shell.execute_reply": "2024-02-05T20:41:37.310186Z"
    }
   },
   "outputs": [
    {
     "name": "stdout",
     "output_type": "stream",
     "text": [
      "[{'theta': array(0.335465)}, {'theta': array(0.370054)}, {'theta': array(0.327206)}, {'theta': array(0.220554)}]\n"
     ]
    }
   ],
   "source": [
    "inits = pathfinder.create_inits()\n",
    "print(inits)"
   ]
  },
  {
   "cell_type": "markdown",
   "metadata": {},
   "source": [
    "The `create_inits` takes two arguments:\n",
    "\n",
    "* `seed` - used for random selection.\n",
    "* `chains` - the number of draws to return, default is 4.  This should match the number of sampler chains to run."
   ]
  },
  {
   "cell_type": "code",
   "execution_count": 8,
   "metadata": {
    "execution": {
     "iopub.execute_input": "2024-02-05T20:41:37.313029Z",
     "iopub.status.busy": "2024-02-05T20:41:37.312846Z",
     "iopub.status.idle": "2024-02-05T20:41:37.316790Z",
     "shell.execute_reply": "2024-02-05T20:41:37.316156Z"
    }
   },
   "outputs": [
    {
     "name": "stdout",
     "output_type": "stream",
     "text": [
      "[{'theta': array(0.190597)}, {'theta': array(0.268621)}, {'theta': array(0.227258)}]\n"
     ]
    }
   ],
   "source": [
    "inits = pathfinder.create_inits(chains=3)\n",
    "print(inits)"
   ]
  }
 ],
 "metadata": {
  "kernelspec": {
   "display_name": "Python 3 (ipykernel)",
   "language": "python",
   "name": "python3"
  },
  "language_info": {
   "codemirror_mode": {
    "name": "ipython",
    "version": 3
   },
   "file_extension": ".py",
   "mimetype": "text/x-python",
   "name": "python",
   "nbconvert_exporter": "python",
   "pygments_lexer": "ipython3",
   "version": "3.9.18"
  }
 },
 "nbformat": 4,
 "nbformat_minor": 4
}
